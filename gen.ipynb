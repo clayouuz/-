{
 "cells": [
  {
   "cell_type": "code",
   "execution_count": 3,
   "metadata": {},
   "outputs": [],
   "source": [
    "#!pip install handright"
   ]
  },
  {
   "cell_type": "code",
   "execution_count": 29,
   "metadata": {},
   "outputs": [
    {
     "name": "stdout",
     "output_type": "stream",
     "text": [
      "0\n"
     ]
    }
   ],
   "source": [
    "# coding: utf-8\n",
    "from PIL import Image, ImageFont\n",
    "\n",
    "from handright import Template, handwrite\n",
    "\n",
    "f=open('./next.txt', 'r', encoding='utf-8')\n",
    "text=f.read() \n",
    "# text='''\n",
    "\n",
    "# '''\n",
    "size=86\n",
    "template = Template(\n",
    "    background=Image.open(\"./background/bg_bw.jpg\"),\n",
    "    font=ImageFont.truetype(\"./font/satuo.ttf\", size),\n",
    "    line_spacing=size*1.15,\n",
    "    fill=0,  # 字体“颜色”\n",
    "    left_margin=size*3,\n",
    "    top_margin=size*8,\n",
    "    right_margin=size*3,\n",
    "    bottom_margin=size*2,\n",
    "    word_spacing=-5,\n",
    "    line_spacing_sigma=size/64, # 行间距随机扰动\n",
    "    font_size_sigma=size/66,  # 字体大小随机扰动\n",
    "    word_spacing_sigma=size/50,  # 字间距随机扰动\n",
    "    start_chars=\"“（[<\",  # 特定字符提前换行，防止出现在行尾\n",
    "    end_chars=\"），。？！\",  # 防止特定字符因排版算法的自动换行而出现在行首\n",
    "    perturb_x_sigma=size/56,  # 笔画横向偏移随机扰动\n",
    "    perturb_y_sigma=size/50,  # 笔画纵向偏移随机扰动\n",
    "    perturb_theta_sigma=0.03,  # 笔画旋转偏移随机扰动\n",
    ")\n",
    "images = handwrite(text, template)\n",
    "sum=0\n",
    "for i, im in enumerate(images):\n",
    "    assert isinstance(im, Image.Image)\n",
    "    # im.show()\n",
    "    im.save(\"./print/{}.png\".format(i+10))\n",
    "    print(sum)\n",
    "    sum=i+1"
   ]
  },
  {
   "cell_type": "code",
   "execution_count": 3,
   "metadata": {},
   "outputs": [
    {
     "name": "stdout",
     "output_type": "stream",
     "text": [
     ]
    }
   ],
   "source": [
    "print(text)"
   ]
  },
  {
   "cell_type": "code",
   "execution_count": 30,
   "metadata": {},
   "outputs": [],
   "source": [
    "sum=9\n",
    "mid=128\n",
    "first=0"
   ]
  },
  {
   "cell_type": "code",
   "execution_count": 31,
   "metadata": {},
   "outputs": [
    {
     "name": "stdout",
     "output_type": "stream",
     "text": [
      "已处理8/9张图片\n"
     ]
    },
    {
     "ename": "FileNotFoundError",
     "evalue": "[Errno 2] No such file or directory: './print/8.png'",
     "output_type": "error",
     "traceback": [
      "\u001b[1;31m---------------------------------------------------------------------------\u001b[0m",
      "\u001b[1;31mFileNotFoundError\u001b[0m                         Traceback (most recent call last)",
      "Cell \u001b[1;32mIn[31], line 7\u001b[0m\n\u001b[0;32m      4\u001b[0m clear_output()\n\u001b[0;32m      5\u001b[0m \u001b[39mfor\u001b[39;00m i \u001b[39min\u001b[39;00m \u001b[39mrange\u001b[39m(first, \u001b[39msum\u001b[39m):\n\u001b[0;32m      6\u001b[0m     \u001b[39m# 打开图片文件\u001b[39;00m\n\u001b[1;32m----> 7\u001b[0m     img \u001b[39m=\u001b[39m Image\u001b[39m.\u001b[39;49mopen(\u001b[39m\"\u001b[39;49m\u001b[39m./print/\u001b[39;49m\u001b[39m{}\u001b[39;49;00m\u001b[39m.png\u001b[39;49m\u001b[39m\"\u001b[39;49m\u001b[39m.\u001b[39;49mformat(i))\n\u001b[0;32m     11\u001b[0m     \u001b[39m# 转换为灰度图像\u001b[39;00m\n\u001b[0;32m     12\u001b[0m     img \u001b[39m=\u001b[39m img\u001b[39m.\u001b[39mconvert(\u001b[39m\"\u001b[39m\u001b[39mL\u001b[39m\u001b[39m\"\u001b[39m)\n",
      "File \u001b[1;32mc:\\Develop\\miniconda3\\Lib\\site-packages\\PIL\\Image.py:3218\u001b[0m, in \u001b[0;36mopen\u001b[1;34m(fp, mode, formats)\u001b[0m\n\u001b[0;32m   3215\u001b[0m     filename \u001b[39m=\u001b[39m fp\n\u001b[0;32m   3217\u001b[0m \u001b[39mif\u001b[39;00m filename:\n\u001b[1;32m-> 3218\u001b[0m     fp \u001b[39m=\u001b[39m builtins\u001b[39m.\u001b[39mopen(filename, \u001b[39m\"\u001b[39m\u001b[39mrb\u001b[39m\u001b[39m\"\u001b[39m)\n\u001b[0;32m   3219\u001b[0m     exclusive_fp \u001b[39m=\u001b[39m \u001b[39mTrue\u001b[39;00m\n\u001b[0;32m   3221\u001b[0m \u001b[39mtry\u001b[39;00m:\n",
      "\u001b[1;31mFileNotFoundError\u001b[0m: [Errno 2] No such file or directory: './print/8.png'"
     ]
    }
   ],
   "source": [
    "# 导入PIL库\n",
    "from PIL import Image\n",
    "from IPython.display import clear_output\n",
    "clear_output()\n",
    "for i in range(first, sum):\n",
    "    # 打开图片文件\n",
    "    img = Image.open(\"./print/{}.png\".format(i))\n",
    "\n",
    "\n",
    "\n",
    "    # 转换为灰度图像\n",
    "    img = img.convert(\"L\")\n",
    "\n",
    "    # 获取图片的宽度和高度\n",
    "    width, height = img.size\n",
    "    # 遍历每个像素\n",
    "    for x in range(width):\n",
    "        for y in range(height):\n",
    "            # 获取像素的灰度值\n",
    "            pixel = img.getpixel((x, y))\n",
    "            if pixel > mid:\n",
    "                img.putpixel((x, y), 255)\n",
    "            else:\n",
    "                img.putpixel((x, y), 0)\n",
    "\n",
    "    # 保存处理后的图片\n",
    "    img.save(\"./output/output_{}.jpg\".format(i))\n",
    "    clear_output()\n",
    "    print(\"已处理{}/{}张图片\".format(i+1, sum))\n"
   ]
  }
 ],
 "metadata": {
  "kernelspec": {
   "display_name": "base",
   "language": "python",
   "name": "python3"
  },
  "language_info": {
   "codemirror_mode": {
    "name": "ipython",
    "version": 3
   },
   "file_extension": ".py",
   "mimetype": "text/x-python",
   "name": "python",
   "nbconvert_exporter": "python",
   "pygments_lexer": "ipython3",
   "version": "3.11.4"
  },
  "orig_nbformat": 4
 },
 "nbformat": 4,
 "nbformat_minor": 2
}
